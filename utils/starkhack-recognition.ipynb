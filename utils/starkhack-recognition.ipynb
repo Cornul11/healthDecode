{
 "cells": [
  {
   "cell_type": "code",
   "execution_count": 34,
   "metadata": {
    "scrolled": true
   },
   "outputs": [
    {
     "name": "stdout",
     "output_type": "stream",
     "text": [
      "\n",
      "\n",
      "\n",
      "\n",
      "\n",
      "\n",
      "\n",
      "\n",
      "\n",
      "\n",
      "\n",
      "\n",
      "\n",
      "\n",
      "\n",
      "\n",
      "\n",
      "\n",
      "\n",
      "\n",
      "\n",
      "\n",
      "\n",
      "\n",
      "\n",
      "\n",
      "Prescription \n",
      " \n",
      "A medical prescription (℞) is an order (often in written form) issued by a qualified health                \n",
      "care professional (e.g. physician and dentist) to a pharmacist or other therapist for a              \n",
      "treatment (medicine or device) to be provided to their patient. \n",
      " \n",
      "Diagnosis: ​miopia \n",
      " \n",
      "Your doctor will use certain examination devices to learn what is causing myopia. \n",
      "\n",
      "● A retinoscope shines a special light into your eyes that reflects off your ​retina​.              \n",
      "Retinoscopy can show whether a person is nearsighted or farsighted. \n",
      "\n",
      "● A phoropter measures the amount of refractive error you have. It also helps             \n",
      "determine the proper prescription to correct your vision. \n",
      "\n",
      "Treatment: ​contact lens \n",
      "\n",
      " \n",
      "\n",
      "https://www.aao.org/eye-health/anatomy/retina-103\n",
      "\n",
      "\n"
     ]
    }
   ],
   "source": [
    "# for PDF\n",
    "\n",
    "from tika import parser   \n",
    "from PIL import Image \n",
    "from pytesseract import pytesseract \n",
    "  \n",
    "path_to_tesseract = r\"/usr/bin/tesseract\"\n",
    "filename = r\"pr.pdf\"\n",
    "  \n",
    "    \n",
    "if filename.endswith('.jpg') or filename.endswith('.png'):\n",
    "    img = Image.open(image_path) \n",
    "    \n",
    "    # Providing the tesseract executable location to pytesseract library \n",
    "    pytesseract.tesseract_cmd = path_to_tesseract \n",
    "    \n",
    "    text = pytesseract.image_to_string(img) \n",
    "    \n",
    "    # Displaying the extracted text \n",
    "    print(text[:-1])\n",
    "    \n",
    "else:\n",
    "    parsed_pdf = parser.from_file(\"Downloads/prescription.pdf\") \n",
    "    data = parsed_pdf['content']  \n",
    "    print(data) \n",
    "    \n",
    "    \n"
   ]
  },
  {
   "cell_type": "code",
   "execution_count": 50,
   "metadata": {},
   "outputs": [
    {
     "name": "stdout",
     "output_type": "stream",
     "text": [
      "['proper prescription', 'medical prescription', 'treatment', 'physician', 'dentist', 'order', 'health care professional', 'certain examination devices', 'person', 'eyes', 'special light', 'written form', 'pharmacist', 'doctor', 'Px', 'phoropter', 'refractive error', 'retinoscope', 'medicine', 'vision', 'Diagnosis', 'miopia', 'Retinoscopy', 'retina']\n"
     ]
    }
   ],
   "source": [
    "from azure.core.credentials import AzureKeyCredential\n",
    "from azure.ai.textanalytics import TextAnalyticsClient\n",
    "\n",
    "# account settings\n",
    "credential = AzureKeyCredential(\"c02c15f9208d42c38e60c88a41a991f0\")\n",
    "endpoint=\"https://westeurope.api.cognitive.microsoft.com/\"\n",
    "\n",
    "# client\n",
    "text_analytics_client = TextAnalyticsClient(endpoint, credential)\n",
    "\n",
    "# analyse text from image/pdf\n",
    "documents = [text[:-1]]\n",
    "\n",
    "response = text_analytics_client.extract_key_phrases(documents, language=\"en\")\n",
    "result = [doc for doc in response if not doc.is_error]\n",
    "\n",
    "for doc in result:\n",
    "    print(doc.key_phrases)\n",
    "    "
   ]
  },
  {
   "cell_type": "code",
   "execution_count": null,
   "metadata": {},
   "outputs": [],
   "source": []
  }
 ],
 "metadata": {
  "kernelspec": {
   "display_name": "Python 3",
   "language": "python",
   "name": "python3"
  },
  "language_info": {
   "codemirror_mode": {
    "name": "ipython",
    "version": 3
   },
   "file_extension": ".py",
   "mimetype": "text/x-python",
   "name": "python",
   "nbconvert_exporter": "python",
   "pygments_lexer": "ipython3",
   "version": "3.8.5"
  }
 },
 "nbformat": 4,
 "nbformat_minor": 4
}
